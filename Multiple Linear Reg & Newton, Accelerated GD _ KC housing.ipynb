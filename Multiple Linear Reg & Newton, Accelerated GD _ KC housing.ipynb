{
  "nbformat": 4,
  "nbformat_minor": 0,
  "metadata": {
    "colab": {
      "name": "Nhom16_Baitap03.ipynb",
      "provenance": [],
      "collapsed_sections": []
    },
    "kernelspec": {
      "name": "python3",
      "display_name": "Python 3"
    },
    "language_info": {
      "name": "python"
    }
  },
  "cells": [
    {
      "cell_type": "markdown",
      "metadata": {
        "id": "IKZJhHVz1q4N"
      },
      "source": [
        "NHÓM 16:\n",
        "1. NGUYỄN TRƯỜNG SƠN (NHÓM TRƯỞNG)\n",
        "2. LƯU THỊ HIỀN"
      ]
    },
    {
      "cell_type": "markdown",
      "metadata": {
        "id": "mMF0uC8g1SKV"
      },
      "source": [
        "![image.png](data:image/png;base64,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)"
      ]
    },
    {
      "cell_type": "markdown",
      "metadata": {
        "id": "q_W_IbZP14TZ"
      },
      "source": [
        "**1. DATA UNDERSTANDING & CLEANING LOAD DATA**"
      ]
    },
    {
      "cell_type": "code",
      "metadata": {
        "id": "pFBtCQXw10qR"
      },
      "source": [
        "import pandas as pd\n",
        "import numpy as np\n",
        "import seaborn as sn\n",
        "import matplotlib.pyplot as plt\n",
        "from sklearn.linear_model import LinearRegression\n",
        "from sklearn.model_selection import train_test_split\n",
        "from itertools import combinations\n",
        "from sklearn.metrics import mean_squared_error\n",
        "from sklearn.preprocessing import StandardScaler"
      ],
      "execution_count": 464,
      "outputs": []
    },
    {
      "cell_type": "code",
      "metadata": {
        "id": "v6tliuh024e0"
      },
      "source": [
        "import pandas as pd \n",
        "data=pd.read_csv('kc_house_data.csv')"
      ],
      "execution_count": 465,
      "outputs": []
    },
    {
      "cell_type": "code",
      "metadata": {
        "colab": {
          "base_uri": "https://localhost:8080/",
          "height": 317
        },
        "id": "dG6NwJB73UpJ",
        "outputId": "9c61f2db-22c8-42a4-ea25-26140e07cb1c"
      },
      "source": [
        "#Overview of dataset\n",
        "data.describe()"
      ],
      "execution_count": 466,
      "outputs": [
        {
          "output_type": "execute_result",
          "data": {
            "text/html": [
              "<div>\n",
              "<style scoped>\n",
              "    .dataframe tbody tr th:only-of-type {\n",
              "        vertical-align: middle;\n",
              "    }\n",
              "\n",
              "    .dataframe tbody tr th {\n",
              "        vertical-align: top;\n",
              "    }\n",
              "\n",
              "    .dataframe thead th {\n",
              "        text-align: right;\n",
              "    }\n",
              "</style>\n",
              "<table border=\"1\" class=\"dataframe\">\n",
              "  <thead>\n",
              "    <tr style=\"text-align: right;\">\n",
              "      <th></th>\n",
              "      <th>id</th>\n",
              "      <th>price</th>\n",
              "      <th>bedrooms</th>\n",
              "      <th>bathrooms</th>\n",
              "      <th>sqft_living</th>\n",
              "      <th>sqft_lot</th>\n",
              "      <th>floors</th>\n",
              "      <th>waterfront</th>\n",
              "      <th>view</th>\n",
              "      <th>condition</th>\n",
              "      <th>grade</th>\n",
              "      <th>sqft_above</th>\n",
              "      <th>sqft_basement</th>\n",
              "      <th>yr_built</th>\n",
              "      <th>yr_renovated</th>\n",
              "      <th>zipcode</th>\n",
              "      <th>lat</th>\n",
              "      <th>long</th>\n",
              "      <th>sqft_living15</th>\n",
              "      <th>sqft_lot15</th>\n",
              "    </tr>\n",
              "  </thead>\n",
              "  <tbody>\n",
              "    <tr>\n",
              "      <th>count</th>\n",
              "      <td>2.159700e+04</td>\n",
              "      <td>2.159700e+04</td>\n",
              "      <td>21597.000000</td>\n",
              "      <td>21597.000000</td>\n",
              "      <td>21597.000000</td>\n",
              "      <td>2.159700e+04</td>\n",
              "      <td>21597.000000</td>\n",
              "      <td>21597.000000</td>\n",
              "      <td>21597.000000</td>\n",
              "      <td>21597.000000</td>\n",
              "      <td>21597.000000</td>\n",
              "      <td>21597.000000</td>\n",
              "      <td>21597.000000</td>\n",
              "      <td>21597.000000</td>\n",
              "      <td>21597.000000</td>\n",
              "      <td>21597.000000</td>\n",
              "      <td>21597.000000</td>\n",
              "      <td>21597.000000</td>\n",
              "      <td>21597.000000</td>\n",
              "      <td>21597.000000</td>\n",
              "    </tr>\n",
              "    <tr>\n",
              "      <th>mean</th>\n",
              "      <td>4.580474e+09</td>\n",
              "      <td>5.402966e+05</td>\n",
              "      <td>3.373200</td>\n",
              "      <td>2.115826</td>\n",
              "      <td>2080.321850</td>\n",
              "      <td>1.509941e+04</td>\n",
              "      <td>1.494096</td>\n",
              "      <td>0.007547</td>\n",
              "      <td>0.234292</td>\n",
              "      <td>3.409825</td>\n",
              "      <td>7.657915</td>\n",
              "      <td>1788.596842</td>\n",
              "      <td>291.725008</td>\n",
              "      <td>1970.999676</td>\n",
              "      <td>84.464787</td>\n",
              "      <td>98077.951845</td>\n",
              "      <td>47.560093</td>\n",
              "      <td>-122.213982</td>\n",
              "      <td>1986.620318</td>\n",
              "      <td>12758.283512</td>\n",
              "    </tr>\n",
              "    <tr>\n",
              "      <th>std</th>\n",
              "      <td>2.876736e+09</td>\n",
              "      <td>3.673681e+05</td>\n",
              "      <td>0.926299</td>\n",
              "      <td>0.768984</td>\n",
              "      <td>918.106125</td>\n",
              "      <td>4.141264e+04</td>\n",
              "      <td>0.539683</td>\n",
              "      <td>0.086549</td>\n",
              "      <td>0.766390</td>\n",
              "      <td>0.650546</td>\n",
              "      <td>1.173200</td>\n",
              "      <td>827.759761</td>\n",
              "      <td>442.667800</td>\n",
              "      <td>29.375234</td>\n",
              "      <td>401.821438</td>\n",
              "      <td>53.513072</td>\n",
              "      <td>0.138552</td>\n",
              "      <td>0.140724</td>\n",
              "      <td>685.230472</td>\n",
              "      <td>27274.441950</td>\n",
              "    </tr>\n",
              "    <tr>\n",
              "      <th>min</th>\n",
              "      <td>1.000102e+06</td>\n",
              "      <td>7.800000e+04</td>\n",
              "      <td>1.000000</td>\n",
              "      <td>0.500000</td>\n",
              "      <td>370.000000</td>\n",
              "      <td>5.200000e+02</td>\n",
              "      <td>1.000000</td>\n",
              "      <td>0.000000</td>\n",
              "      <td>0.000000</td>\n",
              "      <td>1.000000</td>\n",
              "      <td>3.000000</td>\n",
              "      <td>370.000000</td>\n",
              "      <td>0.000000</td>\n",
              "      <td>1900.000000</td>\n",
              "      <td>0.000000</td>\n",
              "      <td>98001.000000</td>\n",
              "      <td>47.155900</td>\n",
              "      <td>-122.519000</td>\n",
              "      <td>399.000000</td>\n",
              "      <td>651.000000</td>\n",
              "    </tr>\n",
              "    <tr>\n",
              "      <th>25%</th>\n",
              "      <td>2.123049e+09</td>\n",
              "      <td>3.220000e+05</td>\n",
              "      <td>3.000000</td>\n",
              "      <td>1.750000</td>\n",
              "      <td>1430.000000</td>\n",
              "      <td>5.040000e+03</td>\n",
              "      <td>1.000000</td>\n",
              "      <td>0.000000</td>\n",
              "      <td>0.000000</td>\n",
              "      <td>3.000000</td>\n",
              "      <td>7.000000</td>\n",
              "      <td>1190.000000</td>\n",
              "      <td>0.000000</td>\n",
              "      <td>1951.000000</td>\n",
              "      <td>0.000000</td>\n",
              "      <td>98033.000000</td>\n",
              "      <td>47.471100</td>\n",
              "      <td>-122.328000</td>\n",
              "      <td>1490.000000</td>\n",
              "      <td>5100.000000</td>\n",
              "    </tr>\n",
              "    <tr>\n",
              "      <th>50%</th>\n",
              "      <td>3.904930e+09</td>\n",
              "      <td>4.500000e+05</td>\n",
              "      <td>3.000000</td>\n",
              "      <td>2.250000</td>\n",
              "      <td>1910.000000</td>\n",
              "      <td>7.618000e+03</td>\n",
              "      <td>1.500000</td>\n",
              "      <td>0.000000</td>\n",
              "      <td>0.000000</td>\n",
              "      <td>3.000000</td>\n",
              "      <td>7.000000</td>\n",
              "      <td>1560.000000</td>\n",
              "      <td>0.000000</td>\n",
              "      <td>1975.000000</td>\n",
              "      <td>0.000000</td>\n",
              "      <td>98065.000000</td>\n",
              "      <td>47.571800</td>\n",
              "      <td>-122.231000</td>\n",
              "      <td>1840.000000</td>\n",
              "      <td>7620.000000</td>\n",
              "    </tr>\n",
              "    <tr>\n",
              "      <th>75%</th>\n",
              "      <td>7.308900e+09</td>\n",
              "      <td>6.450000e+05</td>\n",
              "      <td>4.000000</td>\n",
              "      <td>2.500000</td>\n",
              "      <td>2550.000000</td>\n",
              "      <td>1.068500e+04</td>\n",
              "      <td>2.000000</td>\n",
              "      <td>0.000000</td>\n",
              "      <td>0.000000</td>\n",
              "      <td>4.000000</td>\n",
              "      <td>8.000000</td>\n",
              "      <td>2210.000000</td>\n",
              "      <td>560.000000</td>\n",
              "      <td>1997.000000</td>\n",
              "      <td>0.000000</td>\n",
              "      <td>98118.000000</td>\n",
              "      <td>47.678000</td>\n",
              "      <td>-122.125000</td>\n",
              "      <td>2360.000000</td>\n",
              "      <td>10083.000000</td>\n",
              "    </tr>\n",
              "    <tr>\n",
              "      <th>max</th>\n",
              "      <td>9.900000e+09</td>\n",
              "      <td>7.700000e+06</td>\n",
              "      <td>33.000000</td>\n",
              "      <td>8.000000</td>\n",
              "      <td>13540.000000</td>\n",
              "      <td>1.651359e+06</td>\n",
              "      <td>3.500000</td>\n",
              "      <td>1.000000</td>\n",
              "      <td>4.000000</td>\n",
              "      <td>5.000000</td>\n",
              "      <td>13.000000</td>\n",
              "      <td>9410.000000</td>\n",
              "      <td>4820.000000</td>\n",
              "      <td>2015.000000</td>\n",
              "      <td>2015.000000</td>\n",
              "      <td>98199.000000</td>\n",
              "      <td>47.777600</td>\n",
              "      <td>-121.315000</td>\n",
              "      <td>6210.000000</td>\n",
              "      <td>871200.000000</td>\n",
              "    </tr>\n",
              "  </tbody>\n",
              "</table>\n",
              "</div>"
            ],
            "text/plain": [
              "                 id         price  ...  sqft_living15     sqft_lot15\n",
              "count  2.159700e+04  2.159700e+04  ...   21597.000000   21597.000000\n",
              "mean   4.580474e+09  5.402966e+05  ...    1986.620318   12758.283512\n",
              "std    2.876736e+09  3.673681e+05  ...     685.230472   27274.441950\n",
              "min    1.000102e+06  7.800000e+04  ...     399.000000     651.000000\n",
              "25%    2.123049e+09  3.220000e+05  ...    1490.000000    5100.000000\n",
              "50%    3.904930e+09  4.500000e+05  ...    1840.000000    7620.000000\n",
              "75%    7.308900e+09  6.450000e+05  ...    2360.000000   10083.000000\n",
              "max    9.900000e+09  7.700000e+06  ...    6210.000000  871200.000000\n",
              "\n",
              "[8 rows x 20 columns]"
            ]
          },
          "metadata": {},
          "execution_count": 466
        }
      ]
    },
    {
      "cell_type": "code",
      "metadata": {
        "id": "duFBYX_St3iW",
        "colab": {
          "base_uri": "https://localhost:8080/",
          "height": 296
        },
        "outputId": "a733015f-ef41-48bd-d51b-58ec190b1a59"
      },
      "source": [
        "#Kiểm tra phân phối của biến price bằng histogram\n",
        "sn.histplot(data['price'], kde = True, bins = 50)"
      ],
      "execution_count": 467,
      "outputs": [
        {
          "output_type": "execute_result",
          "data": {
            "text/plain": [
              "<matplotlib.axes._subplots.AxesSubplot at 0x7f57d124dcd0>"
            ]
          },
          "metadata": {},
          "execution_count": 467
        },
        {
          "output_type": "display_data",
          "data": {
            "image/png": "[encoded data removed]",
            "text/plain": [
              "<Figure size 432x288 with 1 Axes>"
            ]
          },
          "metadata": {
            "needs_background": "light"
          }
        }
      ]
    },
    {
      "cell_type": "code",
      "metadata": {
        "id": "V-pOHD301kc8",
        "colab": {
          "base_uri": "https://localhost:8080/",
          "height": 296
        },
        "outputId": "a323b8b2-b843-458b-f277-e22a7a5528d9"
      },
      "source": [
        "#Kiểm tra phân phối của biến log(price) bằng histogram\n",
        "sn.histplot(np.log(data['price']), kde = True, bins = 50)"
      ],
      "execution_count": 468,
      "outputs": [
        {
          "output_type": "execute_result",
          "data": {
            "text/plain": [
              "<matplotlib.axes._subplots.AxesSubplot at 0x7f57d10f5190>"
            ]
          },
          "metadata": {},
          "execution_count": 468
        },
        {
          "output_type": "display_data",
          "data": {
            "image/png": "[encoded data removed]",
            "text/plain": [
              "<Figure size 432x288 with 1 Axes>"
            ]
          },
          "metadata": {
            "needs_background": "light"
          }
        }
      ]
    },
    {
      "cell_type": "code",
      "metadata": {
        "id": "0gvvNSt_vKBG",
        "colab": {
          "base_uri": "https://localhost:8080/",
          "height": 290
        },
        "outputId": "c556285f-2240-4502-eb7b-8891dbde684c"
      },
      "source": [
        "#Kiểm tra phân phối của biến price bằng qq plot\n",
        "from statsmodels.graphics.gofplots import qqplot\n",
        "qqplot((data['price']), line='s')\n",
        "plt.show()"
      ],
      "execution_count": 469,
      "outputs": [
        {
          "output_type": "display_data",
          "data": {
            "image/png": "[encoded data removed]",
            "text/plain": [
              "<Figure size 432x288 with 1 Axes>"
            ]
          },
          "metadata": {
            "needs_background": "light"
          }
        }
      ]
    },
    {
      "cell_type": "code",
      "metadata": {
        "id": "5GEZkBGM06WB",
        "colab": {
          "base_uri": "https://localhost:8080/",
          "height": 279
        },
        "outputId": "fa84acf6-4388-41f5-b3c8-650204fa7e19"
      },
      "source": [
        "#Kiểm tra phân phối của biến log(price) bằng qq plot \n",
        "from statsmodels.graphics.gofplots import qqplot\n",
        "qqplot(np.log(data['price']), line='s')\n",
        "plt.show()"
      ],
      "execution_count": 470,
      "outputs": [
        {
          "output_type": "display_data",
          "data": {
            "image/png": "[encoded data removed]",
            "text/plain": [
              "<Figure size 432x288 with 1 Axes>"
            ]
          },
          "metadata": {
            "needs_background": "light"
          }
        }
      ]
    },
    {
      "cell_type": "code",
      "metadata": {
        "colab": {
          "base_uri": "https://localhost:8080/"
        },
        "id": "YTzSGi4r9Y56",
        "outputId": "f3c21020-d3d9-4f80-fa2e-3b783eb6557e"
      },
      "source": [
        "#Kiem tra pp chuẩn của biến price bằng shapiro test: pvalue = 0 <0.05 => bác bỏ H0: biến price có pp chuẩn\n",
        "from scipy import stats\n",
        "shapiro_test1 = stats.shapiro(data['price'])\n",
        "shapiro_test1\n"
      ],
      "execution_count": 471,
      "outputs": [
        {
          "output_type": "stream",
          "text": [
            "/usr/local/lib/python3.7/dist-packages/scipy/stats/morestats.py:1676: UserWarning: p-value may not be accurate for N > 5000.\n",
            "  warnings.warn(\"p-value may not be accurate for N > 5000.\")\n"
          ],
          "name": "stderr"
        },
        {
          "output_type": "execute_result",
          "data": {
            "text/plain": [
              "(0.7117754220962524, 0.0)"
            ]
          },
          "metadata": {},
          "execution_count": 471
        }
      ]
    },
    {
      "cell_type": "code",
      "metadata": {
        "colab": {
          "base_uri": "https://localhost:8080/"
        },
        "id": "-GSim8GI96gX",
        "outputId": "f73eb1de-c242-40be-d259-463132712900"
      },
      "source": [
        "#Kiem tra pp chuẩn của biến log(price) bằng shapiro test: pvalue  > 0.05 => chấp nhận H0: biến price có pp chuẩn\n",
        "from scipy import stats\n",
        "shapiro_test2 = stats.shapiro( np.log(data['price']))\n",
        "shapiro_test2"
      ],
      "execution_count": 472,
      "outputs": [
        {
          "output_type": "stream",
          "text": [
            "/usr/local/lib/python3.7/dist-packages/scipy/stats/morestats.py:1676: UserWarning: p-value may not be accurate for N > 5000.\n",
            "  warnings.warn(\"p-value may not be accurate for N > 5000.\")\n"
          ],
          "name": "stderr"
        },
        {
          "output_type": "execute_result",
          "data": {
            "text/plain": [
              "(0.9890983700752258, 4.54173567288117e-37)"
            ]
          },
          "metadata": {},
          "execution_count": 472
        }
      ]
    },
    {
      "cell_type": "code",
      "metadata": {
        "id": "AyweWcNb3D0D"
      },
      "source": [
        "data['log_price'] = np.log(data['price'])"
      ],
      "execution_count": 473,
      "outputs": []
    },
    {
      "cell_type": "code",
      "metadata": {
        "id": "Xb5Tdl183jCW",
        "colab": {
          "base_uri": "https://localhost:8080/"
        },
        "outputId": "4d3ff585-52d1-44ae-efc6-0a5a87881507"
      },
      "source": [
        "#Check null\n",
        "data.isnull().sum()"
      ],
      "execution_count": 474,
      "outputs": [
        {
          "output_type": "execute_result",
          "data": {
            "text/plain": [
              "id               0\n",
              "date             0\n",
              "price            0\n",
              "bedrooms         0\n",
              "bathrooms        0\n",
              "sqft_living      0\n",
              "sqft_lot         0\n",
              "floors           0\n",
              "waterfront       0\n",
              "view             0\n",
              "condition        0\n",
              "grade            0\n",
              "sqft_above       0\n",
              "sqft_basement    0\n",
              "yr_built         0\n",
              "yr_renovated     0\n",
              "zipcode          0\n",
              "lat              0\n",
              "long             0\n",
              "sqft_living15    0\n",
              "sqft_lot15       0\n",
              "log_price        0\n",
              "dtype: int64"
            ]
          },
          "metadata": {},
          "execution_count": 474
        }
      ]
    },
    {
      "cell_type": "code",
      "metadata": {
        "id": "kKbDuALC3raW",
        "colab": {
          "base_uri": "https://localhost:8080/"
        },
        "outputId": "f5d337ae-ebe8-4245-8aca-571b277c9a07"
      },
      "source": [
        "#Data type\n",
        "data.dtypes"
      ],
      "execution_count": 475,
      "outputs": [
        {
          "output_type": "execute_result",
          "data": {
            "text/plain": [
              "id                 int64\n",
              "date              object\n",
              "price            float64\n",
              "bedrooms           int64\n",
              "bathrooms        float64\n",
              "sqft_living        int64\n",
              "sqft_lot           int64\n",
              "floors           float64\n",
              "waterfront         int64\n",
              "view               int64\n",
              "condition          int64\n",
              "grade              int64\n",
              "sqft_above         int64\n",
              "sqft_basement      int64\n",
              "yr_built           int64\n",
              "yr_renovated       int64\n",
              "zipcode            int64\n",
              "lat              float64\n",
              "long             float64\n",
              "sqft_living15      int64\n",
              "sqft_lot15         int64\n",
              "log_price        float64\n",
              "dtype: object"
            ]
          },
          "metadata": {},
          "execution_count": 475
        }
      ]
    },
    {
      "cell_type": "markdown",
      "metadata": {
        "id": "8ova_2jy8qfy"
      },
      "source": [
        "Fix lỗi dữ liệu bathrooms bằng cách làm tròn số, còn số tầng = 1.5 hoặc 3.5 thì cũng có thể chấp nhận và hiểu là 1 tầng trệt của căn nhà"
      ]
    },
    {
      "cell_type": "code",
      "metadata": {
        "id": "jRzmXbiE5Rvh",
        "colab": {
          "base_uri": "https://localhost:8080/"
        },
        "outputId": "67419bf9-a874-414e-9bdf-5fd7437e4175"
      },
      "source": [
        "#Các giá trị bathrooms bị lỗi, không phải số nguyên\n",
        "data['bathrooms'].unique()"
      ],
      "execution_count": 476,
      "outputs": [
        {
          "output_type": "execute_result",
          "data": {
            "text/plain": [
              "array([1.  , 2.25, 3.  , 2.  , 4.5 , 1.5 , 2.5 , 1.75, 2.75, 3.25, 4.  ,\n",
              "       3.5 , 0.75, 4.75, 5.  , 4.25, 3.75, 1.25, 5.25, 6.  , 0.5 , 5.5 ,\n",
              "       6.75, 5.75, 8.  , 7.5 , 7.75, 6.25, 6.5 ])"
            ]
          },
          "metadata": {},
          "execution_count": 476
        }
      ]
    },
    {
      "cell_type": "code",
      "metadata": {
        "id": "6daaD4j-8LAQ",
        "colab": {
          "base_uri": "https://localhost:8080/"
        },
        "outputId": "95174e82-5e40-4d6c-9527-094459796a21"
      },
      "source": [
        "#Kiểm trị giá trị floors không phải số nguyên\n",
        "data['floors'].unique()\n",
        "#Có các giá trị 1.5; 2.5 và 3.5"
      ],
      "execution_count": 477,
      "outputs": [
        {
          "output_type": "execute_result",
          "data": {
            "text/plain": [
              "array([1. , 2. , 1.5, 3. , 2.5, 3.5])"
            ]
          },
          "metadata": {},
          "execution_count": 477
        }
      ]
    },
    {
      "cell_type": "code",
      "metadata": {
        "id": "b1NzAYJV9HX1"
      },
      "source": [
        "#Làm tròn với những trường hợp bathrooms là số thập phân\n",
        "data['bathrooms'] = np.rint(data['bathrooms'])"
      ],
      "execution_count": 478,
      "outputs": []
    },
    {
      "cell_type": "code",
      "metadata": {
        "id": "VcaUQp5iC9Lh",
        "colab": {
          "base_uri": "https://localhost:8080/",
          "height": 224
        },
        "outputId": "64f1d206-3457-48f9-954f-bb19d178c100"
      },
      "source": [
        "data.head(5)"
      ],
      "execution_count": 479,
      "outputs": [
        {
          "output_type": "execute_result",
          "data": {
            "text/html": [
              "<div>\n",
              "<style scoped>\n",
              "    .dataframe tbody tr th:only-of-type {\n",
              "        vertical-align: middle;\n",
              "    }\n",
              "\n",
              "    .dataframe tbody tr th {\n",
              "        vertical-align: top;\n",
              "    }\n",
              "\n",
              "    .dataframe thead th {\n",
              "        text-align: right;\n",
              "    }\n",
              "</style>\n",
              "<table border=\"1\" class=\"dataframe\">\n",
              "  <thead>\n",
              "    <tr style=\"text-align: right;\">\n",
              "      <th></th>\n",
              "      <th>id</th>\n",
              "      <th>date</th>\n",
              "      <th>price</th>\n",
              "      <th>bedrooms</th>\n",
              "      <th>bathrooms</th>\n",
              "      <th>sqft_living</th>\n",
              "      <th>sqft_lot</th>\n",
              "      <th>floors</th>\n",
              "      <th>waterfront</th>\n",
              "      <th>view</th>\n",
              "      <th>condition</th>\n",
              "      <th>grade</th>\n",
              "      <th>sqft_above</th>\n",
              "      <th>sqft_basement</th>\n",
              "      <th>yr_built</th>\n",
              "      <th>yr_renovated</th>\n",
              "      <th>zipcode</th>\n",
              "      <th>lat</th>\n",
              "      <th>long</th>\n",
              "      <th>sqft_living15</th>\n",
              "      <th>sqft_lot15</th>\n",
              "      <th>log_price</th>\n",
              "    </tr>\n",
              "  </thead>\n",
              "  <tbody>\n",
              "    <tr>\n",
              "      <th>0</th>\n",
              "      <td>7129300520</td>\n",
              "      <td>10/13/2014</td>\n",
              "      <td>221900.0</td>\n",
              "      <td>3</td>\n",
              "      <td>1.0</td>\n",
              "      <td>1180</td>\n",
              "      <td>5650</td>\n",
              "      <td>1.0</td>\n",
              "      <td>0</td>\n",
              "      <td>0</td>\n",
              "      <td>3</td>\n",
              "      <td>7</td>\n",
              "      <td>1180</td>\n",
              "      <td>0</td>\n",
              "      <td>1955</td>\n",
              "      <td>0</td>\n",
              "      <td>98178</td>\n",
              "      <td>47.5112</td>\n",
              "      <td>-122.257</td>\n",
              "      <td>1340</td>\n",
              "      <td>5650</td>\n",
              "      <td>12.309982</td>\n",
              "    </tr>\n",
              "    <tr>\n",
              "      <th>1</th>\n",
              "      <td>6414100192</td>\n",
              "      <td>12/9/2014</td>\n",
              "      <td>538000.0</td>\n",
              "      <td>3</td>\n",
              "      <td>2.0</td>\n",
              "      <td>2570</td>\n",
              "      <td>7242</td>\n",
              "      <td>2.0</td>\n",
              "      <td>0</td>\n",
              "      <td>0</td>\n",
              "      <td>3</td>\n",
              "      <td>7</td>\n",
              "      <td>2170</td>\n",
              "      <td>400</td>\n",
              "      <td>1951</td>\n",
              "      <td>1991</td>\n",
              "      <td>98125</td>\n",
              "      <td>47.7210</td>\n",
              "      <td>-122.319</td>\n",
              "      <td>1690</td>\n",
              "      <td>7639</td>\n",
              "      <td>13.195614</td>\n",
              "    </tr>\n",
              "    <tr>\n",
              "      <th>2</th>\n",
              "      <td>5631500400</td>\n",
              "      <td>2/25/2015</td>\n",
              "      <td>180000.0</td>\n",
              "      <td>2</td>\n",
              "      <td>1.0</td>\n",
              "      <td>770</td>\n",
              "      <td>10000</td>\n",
              "      <td>1.0</td>\n",
              "      <td>0</td>\n",
              "      <td>0</td>\n",
              "      <td>3</td>\n",
              "      <td>6</td>\n",
              "      <td>770</td>\n",
              "      <td>0</td>\n",
              "      <td>1933</td>\n",
              "      <td>0</td>\n",
              "      <td>98028</td>\n",
              "      <td>47.7379</td>\n",
              "      <td>-122.233</td>\n",
              "      <td>2720</td>\n",
              "      <td>8062</td>\n",
              "      <td>12.100712</td>\n",
              "    </tr>\n",
              "    <tr>\n",
              "      <th>3</th>\n",
              "      <td>2487200875</td>\n",
              "      <td>12/9/2014</td>\n",
              "      <td>604000.0</td>\n",
              "      <td>4</td>\n",
              "      <td>3.0</td>\n",
              "      <td>1960</td>\n",
              "      <td>5000</td>\n",
              "      <td>1.0</td>\n",
              "      <td>0</td>\n",
              "      <td>0</td>\n",
              "      <td>5</td>\n",
              "      <td>7</td>\n",
              "      <td>1050</td>\n",
              "      <td>910</td>\n",
              "      <td>1965</td>\n",
              "      <td>0</td>\n",
              "      <td>98136</td>\n",
              "      <td>47.5208</td>\n",
              "      <td>-122.393</td>\n",
              "      <td>1360</td>\n",
              "      <td>5000</td>\n",
              "      <td>13.311329</td>\n",
              "    </tr>\n",
              "    <tr>\n",
              "      <th>4</th>\n",
              "      <td>1954400510</td>\n",
              "      <td>2/18/2015</td>\n",
              "      <td>510000.0</td>\n",
              "      <td>3</td>\n",
              "      <td>2.0</td>\n",
              "      <td>1680</td>\n",
              "      <td>8080</td>\n",
              "      <td>1.0</td>\n",
              "      <td>0</td>\n",
              "      <td>0</td>\n",
              "      <td>3</td>\n",
              "      <td>8</td>\n",
              "      <td>1680</td>\n",
              "      <td>0</td>\n",
              "      <td>1987</td>\n",
              "      <td>0</td>\n",
              "      <td>98074</td>\n",
              "      <td>47.6168</td>\n",
              "      <td>-122.045</td>\n",
              "      <td>1800</td>\n",
              "      <td>7503</td>\n",
              "      <td>13.142166</td>\n",
              "    </tr>\n",
              "  </tbody>\n",
              "</table>\n",
              "</div>"
            ],
            "text/plain": [
              "           id        date     price  ...  sqft_living15  sqft_lot15  log_price\n",
              "0  7129300520  10/13/2014  221900.0  ...           1340        5650  12.309982\n",
              "1  6414100192   12/9/2014  538000.0  ...           1690        7639  13.195614\n",
              "2  5631500400   2/25/2015  180000.0  ...           2720        8062  12.100712\n",
              "3  2487200875   12/9/2014  604000.0  ...           1360        5000  13.311329\n",
              "4  1954400510   2/18/2015  510000.0  ...           1800        7503  13.142166\n",
              "\n",
              "[5 rows x 22 columns]"
            ]
          },
          "metadata": {},
          "execution_count": 479
        }
      ]
    },
    {
      "cell_type": "markdown",
      "metadata": {
        "id": "GgCKoAr1_ZQg"
      },
      "source": [
        "**TƯƠNG QUAN GIỮA CÁC BIẾN**"
      ]
    },
    {
      "cell_type": "code",
      "metadata": {
        "id": "DjaHQrtF9ZZm",
        "colab": {
          "base_uri": "https://localhost:8080/",
          "height": 676
        },
        "outputId": "9ddcd630-19fd-4107-e498-06d6f449e505"
      },
      "source": [
        "fig = plt.gcf()\n",
        "fig.set_size_inches(18, 10)\n",
        "sn.heatmap(data.corr(), annot = True, fmt='.1g')"
      ],
      "execution_count": 480,
      "outputs": [
        {
          "output_type": "execute_result",
          "data": {
            "text/plain": [
              "<matplotlib.axes._subplots.AxesSubplot at 0x7f57d10d9c10>"
            ]
          },
          "metadata": {},
          "execution_count": 480
        },
        {
          "output_type": "display_data",
          "data": {
            "image/png": "[encoded data removed]",
            "text/plain": [
              "<Figure size 1296x720 with 2 Axes>"
            ]
          },
          "metadata": {
            "needs_background": "light"
          }
        }
      ]
    },
    {
      "cell_type": "code",
      "metadata": {
        "id": "RsfJTi78De5Y",
        "colab": {
          "base_uri": "https://localhost:8080/",
          "height": 204
        },
        "outputId": "c77cd126-c1ab-408e-fef8-ae93d75ed9d8"
      },
      "source": [
        "features = data.corr()['log_price'].reset_index()\n",
        "features.head()"
      ],
      "execution_count": 481,
      "outputs": [
        {
          "output_type": "execute_result",
          "data": {
            "text/html": [
              "<div>\n",
              "<style scoped>\n",
              "    .dataframe tbody tr th:only-of-type {\n",
              "        vertical-align: middle;\n",
              "    }\n",
              "\n",
              "    .dataframe tbody tr th {\n",
              "        vertical-align: top;\n",
              "    }\n",
              "\n",
              "    .dataframe thead th {\n",
              "        text-align: right;\n",
              "    }\n",
              "</style>\n",
              "<table border=\"1\" class=\"dataframe\">\n",
              "  <thead>\n",
              "    <tr style=\"text-align: right;\">\n",
              "      <th></th>\n",
              "      <th>index</th>\n",
              "      <th>log_price</th>\n",
              "    </tr>\n",
              "  </thead>\n",
              "  <tbody>\n",
              "    <tr>\n",
              "      <th>0</th>\n",
              "      <td>id</td>\n",
              "      <td>-0.003751</td>\n",
              "    </tr>\n",
              "    <tr>\n",
              "      <th>1</th>\n",
              "      <td>price</td>\n",
              "      <td>0.891745</td>\n",
              "    </tr>\n",
              "    <tr>\n",
              "      <th>2</th>\n",
              "      <td>bedrooms</td>\n",
              "      <td>0.343360</td>\n",
              "    </tr>\n",
              "    <tr>\n",
              "      <th>3</th>\n",
              "      <td>bathrooms</td>\n",
              "      <td>0.526157</td>\n",
              "    </tr>\n",
              "    <tr>\n",
              "      <th>4</th>\n",
              "      <td>sqft_living</td>\n",
              "      <td>0.695185</td>\n",
              "    </tr>\n",
              "  </tbody>\n",
              "</table>\n",
              "</div>"
            ],
            "text/plain": [
              "         index  log_price\n",
              "0           id  -0.003751\n",
              "1        price   0.891745\n",
              "2     bedrooms   0.343360\n",
              "3    bathrooms   0.526157\n",
              "4  sqft_living   0.695185"
            ]
          },
          "metadata": {},
          "execution_count": 481
        }
      ]
    },
    {
      "cell_type": "code",
      "metadata": {
        "id": "aq9gczSpHZpR",
        "colab": {
          "base_uri": "https://localhost:8080/"
        },
        "outputId": "e810dc99-0114-489a-d110-db7d2c3e3815"
      },
      "source": [
        "#Chỉ giữ lại các features có cor > 0.5\n",
        "selected_features = features[features['log_price']>= 0.5]['index'].tolist()\n",
        "selected_features"
      ],
      "execution_count": 482,
      "outputs": [
        {
          "output_type": "execute_result",
          "data": {
            "text/plain": [
              "['price',\n",
              " 'bathrooms',\n",
              " 'sqft_living',\n",
              " 'grade',\n",
              " 'sqft_above',\n",
              " 'sqft_living15',\n",
              " 'log_price']"
            ]
          },
          "metadata": {},
          "execution_count": 482
        }
      ]
    },
    {
      "cell_type": "code",
      "metadata": {
        "id": "09a4N3N4A86m"
      },
      "source": [
        "#Chỉ giữ lại các features có cor > 0.5\n",
        "data_new = data[selected_features].drop(columns = 'price')"
      ],
      "execution_count": 483,
      "outputs": []
    },
    {
      "cell_type": "code",
      "metadata": {
        "id": "5fZPXZwT8Vyv",
        "colab": {
          "base_uri": "https://localhost:8080/",
          "height": 204
        },
        "outputId": "662430d0-291f-4e74-8b93-094fbc416931"
      },
      "source": [
        "data_new.head()"
      ],
      "execution_count": 484,
      "outputs": [
        {
          "output_type": "execute_result",
          "data": {
            "text/html": [
              "<div>\n",
              "<style scoped>\n",
              "    .dataframe tbody tr th:only-of-type {\n",
              "        vertical-align: middle;\n",
              "    }\n",
              "\n",
              "    .dataframe tbody tr th {\n",
              "        vertical-align: top;\n",
              "    }\n",
              "\n",
              "    .dataframe thead th {\n",
              "        text-align: right;\n",
              "    }\n",
              "</style>\n",
              "<table border=\"1\" class=\"dataframe\">\n",
              "  <thead>\n",
              "    <tr style=\"text-align: right;\">\n",
              "      <th></th>\n",
              "      <th>bathrooms</th>\n",
              "      <th>sqft_living</th>\n",
              "      <th>grade</th>\n",
              "      <th>sqft_above</th>\n",
              "      <th>sqft_living15</th>\n",
              "      <th>log_price</th>\n",
              "    </tr>\n",
              "  </thead>\n",
              "  <tbody>\n",
              "    <tr>\n",
              "      <th>0</th>\n",
              "      <td>1.0</td>\n",
              "      <td>1180</td>\n",
              "      <td>7</td>\n",
              "      <td>1180</td>\n",
              "      <td>1340</td>\n",
              "      <td>12.309982</td>\n",
              "    </tr>\n",
              "    <tr>\n",
              "      <th>1</th>\n",
              "      <td>2.0</td>\n",
              "      <td>2570</td>\n",
              "      <td>7</td>\n",
              "      <td>2170</td>\n",
              "      <td>1690</td>\n",
              "      <td>13.195614</td>\n",
              "    </tr>\n",
              "    <tr>\n",
              "      <th>2</th>\n",
              "      <td>1.0</td>\n",
              "      <td>770</td>\n",
              "      <td>6</td>\n",
              "      <td>770</td>\n",
              "      <td>2720</td>\n",
              "      <td>12.100712</td>\n",
              "    </tr>\n",
              "    <tr>\n",
              "      <th>3</th>\n",
              "      <td>3.0</td>\n",
              "      <td>1960</td>\n",
              "      <td>7</td>\n",
              "      <td>1050</td>\n",
              "      <td>1360</td>\n",
              "      <td>13.311329</td>\n",
              "    </tr>\n",
              "    <tr>\n",
              "      <th>4</th>\n",
              "      <td>2.0</td>\n",
              "      <td>1680</td>\n",
              "      <td>8</td>\n",
              "      <td>1680</td>\n",
              "      <td>1800</td>\n",
              "      <td>13.142166</td>\n",
              "    </tr>\n",
              "  </tbody>\n",
              "</table>\n",
              "</div>"
            ],
            "text/plain": [
              "   bathrooms  sqft_living  grade  sqft_above  sqft_living15  log_price\n",
              "0        1.0         1180      7        1180           1340  12.309982\n",
              "1        2.0         2570      7        2170           1690  13.195614\n",
              "2        1.0          770      6         770           2720  12.100712\n",
              "3        3.0         1960      7        1050           1360  13.311329\n",
              "4        2.0         1680      8        1680           1800  13.142166"
            ]
          },
          "metadata": {},
          "execution_count": 484
        }
      ]
    },
    {
      "cell_type": "markdown",
      "metadata": {
        "id": "Rw6kOnBkDGJC"
      },
      "source": [
        "**BUILD BASELINE MODEL**"
      ]
    },
    {
      "cell_type": "code",
      "metadata": {
        "id": "qjRkmeVQJL5s"
      },
      "source": [
        "x_train, x_test, y_train, y_test =  train_test_split(data_new.iloc[:, : 5],  data_new.iloc[:, 5], test_size = 0.25, random_state = 42)"
      ],
      "execution_count": 485,
      "outputs": []
    },
    {
      "cell_type": "code",
      "metadata": {
        "id": "SdBQfuZkNJbf"
      },
      "source": [
        "#NORMALIZE DATA\n",
        "scaler = StandardScaler()\n",
        "scaled_x_train = scaler.fit_transform(x_train)\n",
        "scaled_x_test = scaler.fit_transform(x_test)"
      ],
      "execution_count": 486,
      "outputs": []
    },
    {
      "cell_type": "code",
      "metadata": {
        "id": "g6YBguh_EMbF",
        "colab": {
          "base_uri": "https://localhost:8080/"
        },
        "outputId": "7146f5ab-56c3-42bd-e6dd-394ddc6ab326"
      },
      "source": [
        "#Tổ hợp các model con của bài toán\n",
        "combs = []\n",
        "selected_features_new = [ e for e in selected_features if e not in ['price', 'log_price']]\n",
        "for i in range(1, len(selected_features_new) +1):\n",
        "      combs.extend(list(combinations(selected_features_new,i)))\n",
        "combs   "
      ],
      "execution_count": 487,
      "outputs": [
        {
          "output_type": "execute_result",
          "data": {
            "text/plain": [
              "[('bathrooms',),\n",
              " ('sqft_living',),\n",
              " ('grade',),\n",
              " ('sqft_above',),\n",
              " ('sqft_living15',),\n",
              " ('bathrooms', 'sqft_living'),\n",
              " ('bathrooms', 'grade'),\n",
              " ('bathrooms', 'sqft_above'),\n",
              " ('bathrooms', 'sqft_living15'),\n",
              " ('sqft_living', 'grade'),\n",
              " ('sqft_living', 'sqft_above'),\n",
              " ('sqft_living', 'sqft_living15'),\n",
              " ('grade', 'sqft_above'),\n",
              " ('grade', 'sqft_living15'),\n",
              " ('sqft_above', 'sqft_living15'),\n",
              " ('bathrooms', 'sqft_living', 'grade'),\n",
              " ('bathrooms', 'sqft_living', 'sqft_above'),\n",
              " ('bathrooms', 'sqft_living', 'sqft_living15'),\n",
              " ('bathrooms', 'grade', 'sqft_above'),\n",
              " ('bathrooms', 'grade', 'sqft_living15'),\n",
              " ('bathrooms', 'sqft_above', 'sqft_living15'),\n",
              " ('sqft_living', 'grade', 'sqft_above'),\n",
              " ('sqft_living', 'grade', 'sqft_living15'),\n",
              " ('sqft_living', 'sqft_above', 'sqft_living15'),\n",
              " ('grade', 'sqft_above', 'sqft_living15'),\n",
              " ('bathrooms', 'sqft_living', 'grade', 'sqft_above'),\n",
              " ('bathrooms', 'sqft_living', 'grade', 'sqft_living15'),\n",
              " ('bathrooms', 'sqft_living', 'sqft_above', 'sqft_living15'),\n",
              " ('bathrooms', 'grade', 'sqft_above', 'sqft_living15'),\n",
              " ('sqft_living', 'grade', 'sqft_above', 'sqft_living15'),\n",
              " ('bathrooms', 'sqft_living', 'grade', 'sqft_above', 'sqft_living15')]"
            ]
          },
          "metadata": {},
          "execution_count": 487
        }
      ]
    },
    {
      "cell_type": "code",
      "metadata": {
        "id": "t9mLk-nKLKsw"
      },
      "source": [
        "models = []\n",
        "cols = [\"model\",\"mse\"]\n",
        "\n",
        "for i in range(len(combs)):\n",
        "    pair = list(combs[i])\n",
        "    linear_model = LinearRegression().fit(x_train[pair], y_train)\n",
        "    y_predict = linear_model.predict(x_test[pair])\n",
        "    mse = mean_squared_error(y_test, y_predict)\n",
        "    models.append([pair,mse])\n",
        "\n",
        "models = pd.DataFrame(models,columns = cols)"
      ],
      "execution_count": 488,
      "outputs": []
    },
    {
      "cell_type": "code",
      "metadata": {
        "id": "eRUDt38wLexY",
        "colab": {
          "base_uri": "https://localhost:8080/",
          "height": 1000
        },
        "outputId": "e67e9085-4eb0-479a-b8f8-977f92d0719e"
      },
      "source": [
        "#So sánh các model theo mse\n",
        "models.sort_values(by =  'mse')"
      ],
      "execution_count": 489,
      "outputs": [
        {
          "output_type": "execute_result",
          "data": {
            "text/html": [
              "<div>\n",
              "<style scoped>\n",
              "    .dataframe tbody tr th:only-of-type {\n",
              "        vertical-align: middle;\n",
              "    }\n",
              "\n",
              "    .dataframe tbody tr th {\n",
              "        vertical-align: top;\n",
              "    }\n",
              "\n",
              "    .dataframe thead th {\n",
              "        text-align: right;\n",
              "    }\n",
              "</style>\n",
              "<table border=\"1\" class=\"dataframe\">\n",
              "  <thead>\n",
              "    <tr style=\"text-align: right;\">\n",
              "      <th></th>\n",
              "      <th>model</th>\n",
              "      <th>mse</th>\n",
              "    </tr>\n",
              "  </thead>\n",
              "  <tbody>\n",
              "    <tr>\n",
              "      <th>30</th>\n",
              "      <td>[bathrooms, sqft_living, grade, sqft_above, sq...</td>\n",
              "      <td>0.119505</td>\n",
              "    </tr>\n",
              "    <tr>\n",
              "      <th>29</th>\n",
              "      <td>[sqft_living, grade, sqft_above, sqft_living15]</td>\n",
              "      <td>0.119572</td>\n",
              "    </tr>\n",
              "    <tr>\n",
              "      <th>25</th>\n",
              "      <td>[bathrooms, sqft_living, grade, sqft_above]</td>\n",
              "      <td>0.120487</td>\n",
              "    </tr>\n",
              "    <tr>\n",
              "      <th>21</th>\n",
              "      <td>[sqft_living, grade, sqft_above]</td>\n",
              "      <td>0.120527</td>\n",
              "    </tr>\n",
              "    <tr>\n",
              "      <th>26</th>\n",
              "      <td>[bathrooms, sqft_living, grade, sqft_living15]</td>\n",
              "      <td>0.121972</td>\n",
              "    </tr>\n",
              "    <tr>\n",
              "      <th>22</th>\n",
              "      <td>[sqft_living, grade, sqft_living15]</td>\n",
              "      <td>0.122103</td>\n",
              "    </tr>\n",
              "    <tr>\n",
              "      <th>15</th>\n",
              "      <td>[bathrooms, sqft_living, grade]</td>\n",
              "      <td>0.122633</td>\n",
              "    </tr>\n",
              "    <tr>\n",
              "      <th>9</th>\n",
              "      <td>[sqft_living, grade]</td>\n",
              "      <td>0.122727</td>\n",
              "    </tr>\n",
              "    <tr>\n",
              "      <th>28</th>\n",
              "      <td>[bathrooms, grade, sqft_above, sqft_living15]</td>\n",
              "      <td>0.129505</td>\n",
              "    </tr>\n",
              "    <tr>\n",
              "      <th>19</th>\n",
              "      <td>[bathrooms, grade, sqft_living15]</td>\n",
              "      <td>0.129572</td>\n",
              "    </tr>\n",
              "    <tr>\n",
              "      <th>24</th>\n",
              "      <td>[grade, sqft_above, sqft_living15]</td>\n",
              "      <td>0.132193</td>\n",
              "    </tr>\n",
              "    <tr>\n",
              "      <th>13</th>\n",
              "      <td>[grade, sqft_living15]</td>\n",
              "      <td>0.132923</td>\n",
              "    </tr>\n",
              "    <tr>\n",
              "      <th>18</th>\n",
              "      <td>[bathrooms, grade, sqft_above]</td>\n",
              "      <td>0.133113</td>\n",
              "    </tr>\n",
              "    <tr>\n",
              "      <th>6</th>\n",
              "      <td>[bathrooms, grade]</td>\n",
              "      <td>0.134768</td>\n",
              "    </tr>\n",
              "    <tr>\n",
              "      <th>27</th>\n",
              "      <td>[bathrooms, sqft_living, sqft_above, sqft_livi...</td>\n",
              "      <td>0.135556</td>\n",
              "    </tr>\n",
              "    <tr>\n",
              "      <th>12</th>\n",
              "      <td>[grade, sqft_above]</td>\n",
              "      <td>0.135979</td>\n",
              "    </tr>\n",
              "    <tr>\n",
              "      <th>17</th>\n",
              "      <td>[bathrooms, sqft_living, sqft_living15]</td>\n",
              "      <td>0.136000</td>\n",
              "    </tr>\n",
              "    <tr>\n",
              "      <th>23</th>\n",
              "      <td>[sqft_living, sqft_above, sqft_living15]</td>\n",
              "      <td>0.136482</td>\n",
              "    </tr>\n",
              "    <tr>\n",
              "      <th>11</th>\n",
              "      <td>[sqft_living, sqft_living15]</td>\n",
              "      <td>0.136961</td>\n",
              "    </tr>\n",
              "    <tr>\n",
              "      <th>2</th>\n",
              "      <td>[grade]</td>\n",
              "      <td>0.139365</td>\n",
              "    </tr>\n",
              "    <tr>\n",
              "      <th>16</th>\n",
              "      <td>[bathrooms, sqft_living, sqft_above]</td>\n",
              "      <td>0.140917</td>\n",
              "    </tr>\n",
              "    <tr>\n",
              "      <th>5</th>\n",
              "      <td>[bathrooms, sqft_living]</td>\n",
              "      <td>0.140960</td>\n",
              "    </tr>\n",
              "    <tr>\n",
              "      <th>10</th>\n",
              "      <td>[sqft_living, sqft_above]</td>\n",
              "      <td>0.141723</td>\n",
              "    </tr>\n",
              "    <tr>\n",
              "      <th>1</th>\n",
              "      <td>[sqft_living]</td>\n",
              "      <td>0.141781</td>\n",
              "    </tr>\n",
              "    <tr>\n",
              "      <th>20</th>\n",
              "      <td>[bathrooms, sqft_above, sqft_living15]</td>\n",
              "      <td>0.149685</td>\n",
              "    </tr>\n",
              "    <tr>\n",
              "      <th>8</th>\n",
              "      <td>[bathrooms, sqft_living15]</td>\n",
              "      <td>0.155797</td>\n",
              "    </tr>\n",
              "    <tr>\n",
              "      <th>14</th>\n",
              "      <td>[sqft_above, sqft_living15]</td>\n",
              "      <td>0.157757</td>\n",
              "    </tr>\n",
              "    <tr>\n",
              "      <th>7</th>\n",
              "      <td>[bathrooms, sqft_above]</td>\n",
              "      <td>0.163635</td>\n",
              "    </tr>\n",
              "    <tr>\n",
              "      <th>4</th>\n",
              "      <td>[sqft_living15]</td>\n",
              "      <td>0.173296</td>\n",
              "    </tr>\n",
              "    <tr>\n",
              "      <th>3</th>\n",
              "      <td>[sqft_above]</td>\n",
              "      <td>0.174725</td>\n",
              "    </tr>\n",
              "    <tr>\n",
              "      <th>0</th>\n",
              "      <td>[bathrooms]</td>\n",
              "      <td>0.200318</td>\n",
              "    </tr>\n",
              "  </tbody>\n",
              "</table>\n",
              "</div>"
            ],
            "text/plain": [
              "                                                model       mse\n",
              "30  [bathrooms, sqft_living, grade, sqft_above, sq...  0.119505\n",
              "29    [sqft_living, grade, sqft_above, sqft_living15]  0.119572\n",
              "25        [bathrooms, sqft_living, grade, sqft_above]  0.120487\n",
              "21                   [sqft_living, grade, sqft_above]  0.120527\n",
              "26     [bathrooms, sqft_living, grade, sqft_living15]  0.121972\n",
              "22                [sqft_living, grade, sqft_living15]  0.122103\n",
              "15                    [bathrooms, sqft_living, grade]  0.122633\n",
              "9                                [sqft_living, grade]  0.122727\n",
              "28      [bathrooms, grade, sqft_above, sqft_living15]  0.129505\n",
              "19                  [bathrooms, grade, sqft_living15]  0.129572\n",
              "24                 [grade, sqft_above, sqft_living15]  0.132193\n",
              "13                             [grade, sqft_living15]  0.132923\n",
              "18                     [bathrooms, grade, sqft_above]  0.133113\n",
              "6                                  [bathrooms, grade]  0.134768\n",
              "27  [bathrooms, sqft_living, sqft_above, sqft_livi...  0.135556\n",
              "12                                [grade, sqft_above]  0.135979\n",
              "17            [bathrooms, sqft_living, sqft_living15]  0.136000\n",
              "23           [sqft_living, sqft_above, sqft_living15]  0.136482\n",
              "11                       [sqft_living, sqft_living15]  0.136961\n",
              "2                                             [grade]  0.139365\n",
              "16               [bathrooms, sqft_living, sqft_above]  0.140917\n",
              "5                            [bathrooms, sqft_living]  0.140960\n",
              "10                          [sqft_living, sqft_above]  0.141723\n",
              "1                                       [sqft_living]  0.141781\n",
              "20             [bathrooms, sqft_above, sqft_living15]  0.149685\n",
              "8                          [bathrooms, sqft_living15]  0.155797\n",
              "14                        [sqft_above, sqft_living15]  0.157757\n",
              "7                             [bathrooms, sqft_above]  0.163635\n",
              "4                                     [sqft_living15]  0.173296\n",
              "3                                        [sqft_above]  0.174725\n",
              "0                                         [bathrooms]  0.200318"
            ]
          },
          "metadata": {},
          "execution_count": 489
        }
      ]
    },
    {
      "cell_type": "code",
      "metadata": {
        "id": "nhzl6zQfVkwk",
        "colab": {
          "base_uri": "https://localhost:8080/"
        },
        "outputId": "f134079f-417f-420a-e032-e08e69f5dd68"
      },
      "source": [
        "#Best model\n",
        "list(models[models['mse'] == np.min(models['mse']) ]['model'])"
      ],
      "execution_count": 490,
      "outputs": [
        {
          "output_type": "execute_result",
          "data": {
            "text/plain": [
              "[['bathrooms', 'sqft_living', 'grade', 'sqft_above', 'sqft_living15']]"
            ]
          },
          "metadata": {},
          "execution_count": 490
        }
      ]
    },
    {
      "cell_type": "markdown",
      "metadata": {
        "id": "hVhsKtVdqpVF"
      },
      "source": [
        "KẾT LUẬN: MODEL TỐT NHẤT LÀ VỚI 5 biến :\n",
        "'bathrooms', 'sqft_living', 'grade', 'sqft_above', 'sqft_living15'"
      ]
    },
    {
      "cell_type": "markdown",
      "metadata": {
        "id": "KcgK_Z8_56Ut"
      },
      "source": [
        "**BUILD MODEL WITH 3 METHODS**"
      ]
    },
    {
      "cell_type": "markdown",
      "metadata": {
        "id": "3N7f18kP5-7z"
      },
      "source": [
        "**GRADIENT DESCENT WITH BACK TRACKING**"
      ]
    },
    {
      "cell_type": "markdown",
      "metadata": {
        "id": "9lKYcSD39s4w"
      },
      "source": [
        "![image.png](data:image/png;base64,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)"
      ]
    },
    {
      "cell_type": "code",
      "metadata": {
        "id": "53o0DMe27EnL"
      },
      "source": [
        "def loss_funtion(X, Y, w):\n",
        "  y_predict = np.dot(X, w[1:]) + w[0]\n",
        "  return 0.5*1/(X.shape[0])*np.linalg.norm(( Y - y_predict), ord = 2)**2\n",
        "\n",
        "def y_predict_func(x, w):\n",
        "    y_predict = np.dot(x, w[1:]) + w[0]\n",
        "    return y_predict"
      ],
      "execution_count": 491,
      "outputs": []
    },
    {
      "cell_type": "markdown",
      "metadata": {
        "id": "CkqCH-FS0oPe"
      },
      "source": [
        "GD WITH FIXED STEP SIZE"
      ]
    },
    {
      "cell_type": "code",
      "metadata": {
        "id": "2KG2EmaG8N2q"
      },
      "source": [
        "def ln_gradient_descent(x, y, learning_rate, steps, tol):\n",
        "    # Check time and step\n",
        "    import time\n",
        "    start_time = time.time()\n",
        "    step = 0\n",
        "    total_time = [0]\n",
        "    total_step = [0]\n",
        "    # Init solution w\n",
        "    n1 = x.shape[1]\n",
        "    n2 = x.shape[0]\n",
        "    w = np.zeros(n1 + 1)\n",
        "    w_list = [w]\n",
        "    x = np.hstack((np.ones(n2).reshape(n2, 1) , x))\n",
        "    a = np.dot(np.transpose(x), x)\n",
        "    b = np.dot(np.transpose(x), y)\n",
        "    # Gradient descent:\n",
        "    for step in range(steps):\n",
        "        gradient = 1/n2*( np.dot(a, w) - b)\n",
        "        w = w - learning_rate * gradient\n",
        "        w_list.append(w) \n",
        "        step += 1\n",
        "        total_step.append(step)\n",
        "        if (np.abs(gradient) < tol ).all() == True:\n",
        "            end_time = time.time()\n",
        "            total_time.append(end_time-start_time)\n",
        "            print(\"satisfy stop condtion\")\n",
        "            return w,total_step,total_time,w_list\n",
        "        end_time = time.time()\n",
        "        total_time.append(end_time-start_time)       \n",
        "    return w,total_step,total_time,w_list           "
      ],
      "execution_count": 492,
      "outputs": []
    },
    {
      "cell_type": "code",
      "metadata": {
        "id": "-L_pxn4n-s_X",
        "colab": {
          "base_uri": "https://localhost:8080/"
        },
        "outputId": "c065fccc-3925-47a6-e02c-6a2044429153"
      },
      "source": [
        "result_GD = ln_gradient_descent (scaled_x_train, y_train, 0.2, steps = 100000, tol = 1e-4)"
      ],
      "execution_count": 493,
      "outputs": [
        {
          "output_type": "stream",
          "text": [
            "satisfy stop condtion\n"
          ],
          "name": "stdout"
        }
      ]
    },
    {
      "cell_type": "markdown",
      "metadata": {
        "id": "DK0suNtE0s5l"
      },
      "source": [
        "GD WITH BACK TRACKING "
      ]
    },
    {
      "cell_type": "code",
      "metadata": {
        "id": "ZE_LG7ZgpxUl"
      },
      "source": [
        "def ln_gradient_descent_bt(x, y, Beta, alpha, steps, tol):\n",
        "    # Check time and step\n",
        "    import time\n",
        "    start_time = time.time()\n",
        "    step = 0\n",
        "    total_time = [0]\n",
        "    total_step = [0]\n",
        "    # Init solution w\n",
        "    n1 = x.shape[1]\n",
        "    n2 = x.shape[0]\n",
        "    w = np.zeros(n1 + 1)\n",
        "    w_list = [w]\n",
        "    x = np.hstack((np.ones(n2).reshape(n2, 1) , x))\n",
        "    a = np.dot(np.transpose(x), x)\n",
        "    b = np.dot(np.transpose(x), y)\n",
        "    # Gradient descent:\n",
        "    for step in range(steps):\n",
        "        \n",
        "        gradient = 1/n2*( np.dot(a, w) - b)\n",
        "        #Backtracking\n",
        "        t = 0.5\n",
        "        prev_loss = loss_funtion (x[:, 1:], y, w)\n",
        "        norm_2_gd = (np.linalg.norm(gradient, ord = 2))**2\n",
        "        while loss_funtion(x[:, 1:], y, w - t * gradient) > prev_loss - alpha * t * norm_2_gd :\n",
        "            t = Beta * t      \n",
        "        else:\n",
        "            w = w - t * gradient    \n",
        "        w_list.append(w) \n",
        "        step += 1\n",
        "        total_step.append(step)\n",
        "        if (np.abs(gradient) < tol ).all() == True:\n",
        "            end_time = time.time()\n",
        "            total_time.append(end_time-start_time)\n",
        "            print(\"satisfy stop condtion\")\n",
        "            return w,total_step,total_time,w_list\n",
        "        end_time = time.time()\n",
        "        total_time.append(end_time-start_time)       \n",
        "    return w,total_step,total_time,w_list           "
      ],
      "execution_count": 494,
      "outputs": []
    },
    {
      "cell_type": "code",
      "metadata": {
        "id": "ZR1eivNC44HP",
        "colab": {
          "base_uri": "https://localhost:8080/"
        },
        "outputId": "91cc1421-334a-4c12-a551-96910d544457"
      },
      "source": [
        "result_GD_BT = ln_gradient_descent_bt (scaled_x_train, y_train, Beta = 0.5, alpha = 0.5, steps = 100000, tol = 1e-4)"
      ],
      "execution_count": 495,
      "outputs": [
        {
          "output_type": "stream",
          "text": [
            "satisfy stop condtion\n"
          ],
          "name": "stdout"
        }
      ]
    },
    {
      "cell_type": "markdown",
      "metadata": {
        "id": "4k13ebU8Vrxz"
      },
      "source": [
        "Newton’s method"
      ]
    },
    {
      "cell_type": "code",
      "metadata": {
        "id": "fvAff3xoVzfK"
      },
      "source": [
        "def ln_newton(x, y, steps, tol):\n",
        "    # Check time and step\n",
        "    import time\n",
        "    start_time = time.time()\n",
        "    step = 0\n",
        "    total_time = [0]\n",
        "    total_step = [0]\n",
        "    # Init solution w\n",
        "    n1 = x.shape[1]\n",
        "    n2 = x.shape[0]\n",
        "    w = np.zeros(n1 + 1)\n",
        "    w_list = [w]\n",
        "    x = np.hstack((np.ones(n2).reshape(n2, 1) , x))\n",
        "    hessian = 1/n2*np.dot(np.transpose(x), x)\n",
        "    inv_hessian = np.linalg.inv(hessian)\n",
        "    a = np.dot(np.transpose(x), x)\n",
        "    b = np.dot(np.transpose(x), y)\n",
        "    # Gradient descent:\n",
        "    for step in range(steps):\n",
        "        gradient = 1/n2*( np.dot(a, w) - b) \n",
        "        w = w - np.dot( inv_hessian, gradient )\n",
        "        w_list.append(w) \n",
        "        step += 1\n",
        "        total_step.append(step)\n",
        "        if (np.abs(gradient) < tol ).all() == True:\n",
        "            end_time = time.time()\n",
        "            total_time.append(end_time-start_time)\n",
        "            print(\"satisfy stop condtion\")\n",
        "            return w,total_step,total_time,w_list\n",
        "        end_time = time.time()\n",
        "        total_time.append(end_time-start_time)       \n",
        "    return w,total_step,total_time,w_list           "
      ],
      "execution_count": 496,
      "outputs": []
    },
    {
      "cell_type": "code",
      "metadata": {
        "id": "YIu_MiiOWSlo",
        "colab": {
          "base_uri": "https://localhost:8080/"
        },
        "outputId": "be043890-e70a-456b-9de5-93cf35cae21d"
      },
      "source": [
        "result_newton = ln_newton(scaled_x_train, y_train, steps = 100000, tol = 1e-4)"
      ],
      "execution_count": 497,
      "outputs": [
        {
          "output_type": "stream",
          "text": [
            "satisfy stop condtion\n"
          ],
          "name": "stdout"
        }
      ]
    },
    {
      "cell_type": "markdown",
      "metadata": {
        "id": "MhIf1I5j2vJ6"
      },
      "source": [
        "ACCELERATED GRADIENT WITH FIXED STEP SIZE"
      ]
    },
    {
      "cell_type": "code",
      "metadata": {
        "id": "ZMKfkSYs20BY"
      },
      "source": [
        "def accelerated_gradient(x, y, learning_rate, steps, tol):\n",
        "    # Check time and step\n",
        "    import time\n",
        "    start_time = time.time()\n",
        "    step = 0\n",
        "    total_time = [0]\n",
        "    total_step = [0]\n",
        "    # Init solution w\n",
        "    n1 = x.shape[1]\n",
        "    n2 = x.shape[0]\n",
        "    w = np.zeros(n1 + 1)\n",
        "    w_pred = w\n",
        "    w_list = [w]\n",
        "    x = np.hstack((np.ones(n2).reshape(n2, 1) , x))\n",
        "    a = np.dot(np.transpose(x), x)\n",
        "    b = np.dot(np.transpose(x), y)\n",
        "    # Acc_gradient:\n",
        "    for step in range(steps):\n",
        "        v= w + ((step-2)/(step+1))*(w - w_pred)\n",
        "        gradient = 1/n2*( np.dot(a, v) - b)\n",
        "        w_new = v - learning_rate * gradient \n",
        "        w_list.append(w_new) \n",
        "        w_pred = w \n",
        "        w = w_new \n",
        "      \n",
        "        step += 1\n",
        "        total_step.append(step)\n",
        "        if (np.abs(gradient) < tol ).all() == True:\n",
        "            end_time = time.time()\n",
        "            total_time.append(end_time-start_time)\n",
        "            print(\"satisfy stop condtion\")\n",
        "            return w_new,total_step,total_time,w_list\n",
        "        end_time = time.time()\n",
        "        total_time.append(end_time-start_time)       \n",
        "    return w_new,total_step,total_time,w_list           "
      ],
      "execution_count": 498,
      "outputs": []
    },
    {
      "cell_type": "code",
      "metadata": {
        "id": "GqvaCaEPsYJH",
        "colab": {
          "base_uri": "https://localhost:8080/"
        },
        "outputId": "4fae81b2-29f7-4ef2-9371-09f71037c74a"
      },
      "source": [
        "result_acc_gradient = accelerated_gradient(scaled_x_train, y_train, learning_rate = 0.2, steps = 10000, tol = 1e-4)"
      ],
      "execution_count": 499,
      "outputs": [
        {
          "output_type": "stream",
          "text": [
            "satisfy stop condtion\n"
          ],
          "name": "stdout"
        }
      ]
    },
    {
      "cell_type": "markdown",
      "metadata": {
        "id": "WUDqD9sh3xxs"
      },
      "source": [
        "ACCELERATED GRADIENT WITH BACKTRACKING"
      ]
    },
    {
      "cell_type": "code",
      "metadata": {
        "id": "xehYbfFw3xRZ"
      },
      "source": [
        "def acc_gradient_bt(x, y, Beta, steps, tol):\n",
        "    # Check time and step\n",
        "    import time\n",
        "    start_time = time.time()\n",
        "    step = 0\n",
        "    total_time = [0]\n",
        "    total_step = [0]\n",
        "    # Init solution w\n",
        "    n1 = x.shape[1]\n",
        "    n2 = x.shape[0]\n",
        "    w = np.zeros(n1 + 1)\n",
        "    w_pred = w\n",
        "    w_list = [w]\n",
        "    x = np.hstack((np.ones(n2).reshape(n2, 1) , x))\n",
        "    t = 1\n",
        "    a = np.dot(np.transpose(x), x)\n",
        "    b = np.dot(np.transpose(x), y)\n",
        "    # Accelerated gradient:\n",
        "    for step in range(steps):\n",
        "        v= w + ((step-2)/(step+1))*(w - w_pred)\n",
        "        gradient = 1/n2*( np.dot(a, v) - b)\n",
        "        w_new = v - t * gradient\n",
        "        prev_loss = loss_funtion(x[:, 1:], y, v)\n",
        "        #Backtracking\n",
        "        while loss_funtion(x[:, 1:], y, w_new) > prev_loss + np.dot(np.transpose(gradient), (w_new-v)) +1/(2*t) * (np.linalg.norm(w_new-v, ord = 2)**2):\n",
        "          \n",
        "            t = Beta * t      \n",
        "            w_new = v - t * gradient\n",
        "        else:      \n",
        "            w_list.append(w_new) \n",
        "            w_pred = w \n",
        "            w = w_new \n",
        "        step += 1\n",
        "        total_step.append(step)\n",
        "        if (np.abs(gradient) < tol ).all() == True:\n",
        "            end_time = time.time()\n",
        "            total_time.append(end_time-start_time)\n",
        "            print(\"satisfy stop condtion\")\n",
        "            return w,total_step,total_time,w_list\n",
        "        end_time = time.time()\n",
        "        total_time.append(end_time-start_time)       \n",
        "    return w,total_step,total_time,w_list           "
      ],
      "execution_count": 500,
      "outputs": []
    },
    {
      "cell_type": "code",
      "metadata": {
        "colab": {
          "base_uri": "https://localhost:8080/"
        },
        "id": "WelBahu_3_vz",
        "outputId": "37742c9a-5510-4f7e-8be1-28cd2e9c5b91"
      },
      "source": [
        "result_accgradient_BT = acc_gradient_bt (scaled_x_train, y_train, Beta = 0.5, steps = 100000, tol = 1e-4)"
      ],
      "execution_count": 501,
      "outputs": [
        {
          "output_type": "stream",
          "text": [
            "satisfy stop condtion\n"
          ],
          "name": "stdout"
        }
      ]
    },
    {
      "cell_type": "markdown",
      "metadata": {
        "id": "QNrsYL00mxDG"
      },
      "source": [
        "**COMPARE METHODS**"
      ]
    },
    {
      "cell_type": "markdown",
      "metadata": {
        "id": "9UKfTcaxnE4v"
      },
      "source": [
        "**COMPARE TIME & ITERATIONS**"
      ]
    },
    {
      "cell_type": "code",
      "metadata": {
        "id": "Cd6bzbSzm3YT",
        "colab": {
          "base_uri": "https://localhost:8080/",
          "height": 606
        },
        "outputId": "266f3391-7384-4e0d-b3d6-af47cc3b82a7"
      },
      "source": [
        "fig = plt.gcf()\n",
        "fig.set_size_inches(10,10)\n",
        "plt.plot(result_GD[1], result_GD[2], label = \"GD\")\n",
        "plt.plot(result_GD_BT[1], result_GD_BT[2], label = \"GD_BACKTRACKING\")\n",
        "plt.plot(result_newton[1], result_newton[2], label = \"newton\")\n",
        "plt.plot(result_acc_gradient[1], result_acc_gradient[2], label = \"acc_gradient\")\n",
        "plt.plot(result_accgradient_BT[1], result_accgradient_BT[2], label = \"acc_gradient_BT\")\n",
        "plt.legend()\n",
        "plt.xlabel(\"iterations\")\n",
        "plt.ylabel(\"time\")\n",
        "plt.show()"
      ],
      "execution_count": 502,
      "outputs": [
        {
          "output_type": "display_data",
          "data": {
            "image/png": "[encoded data removed]",
            "text/plain": [
              "<Figure size 720x720 with 1 Axes>"
            ]
          },
          "metadata": {
            "needs_background": "light"
          }
        }
      ]
    },
    {
      "cell_type": "code",
      "metadata": {
        "id": "UXnH0F5vncWD",
        "colab": {
          "base_uri": "https://localhost:8080/"
        },
        "outputId": "e23dd7e2-16f6-4e23-f857-9d30dc3e3d40"
      },
      "source": [
        "#Total time & iterations\n",
        "print(\"GD:\", \"time:\", result_GD[2][-1], \",iterations:\", result_GD[1][-1])\n",
        "print(\"GD_BACKTRACKING:\", \"time:\", result_GD_BT[2][-1], \",iterations:\", result_GD_BT[1][-1])\n",
        "print(\"Newton:\", \"time:\", result_newton[2][-1], \",iterations:\", result_newton[1][-1])\n",
        "print(\"Acc_gradient:\", \"time:\", result_acc_gradient[2][-1], \",iterations:\", result_acc_gradient[1][-1])\n",
        "print(\"Acc_gradient_bt:\", \"time:\", result_accgradient_BT[2][-1], \",iterations:\", result_accgradient_BT[1][-1])\n",
        "\n"
      ],
      "execution_count": 503,
      "outputs": [
        {
          "output_type": "stream",
          "text": [
            "GD: time: 0.012645959854125977 ,iterations: 249\n",
            "GD_BACKTRACKING: time: 0.12381958961486816 ,iterations: 99\n",
            "Newton: time: 0.0014357566833496094 ,iterations: 2\n",
            "Acc_gradient: time: 0.002576112747192383 ,iterations: 69\n",
            "Acc_gradient_bt: time: 0.08819222450256348 ,iterations: 60\n"
          ],
          "name": "stdout"
        }
      ]
    },
    {
      "cell_type": "markdown",
      "metadata": {
        "id": "Y69TDrC1oChz"
      },
      "source": [
        "**COMPARE COSTFUNCTION**"
      ]
    },
    {
      "cell_type": "code",
      "metadata": {
        "id": "3qHMqA8voEhG",
        "colab": {
          "base_uri": "https://localhost:8080/",
          "height": 367
        },
        "outputId": "753982f7-cf21-4959-b0a3-08be7561d090"
      },
      "source": [
        "#cost function of GD\n",
        "fig = plt.gcf()\n",
        "fig.set_size_inches(7,5)\n",
        "loss_function_list_GD = [loss_funtion(scaled_x_train, y_train, w) for w in result_GD[3]]\n",
        "plt.plot(result_GD[1],loss_function_list_GD )\n",
        "plt.title(\"GD\")\n",
        "plt.xlabel(\"iterations\")\n",
        "plt.ylabel(\"loss_function\")"
      ],
      "execution_count": 504,
      "outputs": [
        {
          "output_type": "execute_result",
          "data": {
            "text/plain": [
              "Text(0, 0.5, 'loss_function')"
            ]
          },
          "metadata": {},
          "execution_count": 504
        },
        {
          "output_type": "display_data",
          "data": {
            "image/png": "[encoded data removed]",
            "text/plain": [
              "<Figure size 504x360 with 1 Axes>"
            ]
          },
          "metadata": {
            "needs_background": "light"
          }
        }
      ]
    },
    {
      "cell_type": "code",
      "metadata": {
        "id": "DnWr2jt3xPng",
        "colab": {
          "base_uri": "https://localhost:8080/",
          "height": 367
        },
        "outputId": "6d33c0f6-6a8e-4fbc-a022-de291f0ba5f8"
      },
      "source": [
        "#cost function of GD_BACKTRACKING\n",
        "fig = plt.gcf()\n",
        "fig.set_size_inches(7,5)\n",
        "loss_function_list_GDBT = [loss_funtion(scaled_x_train, y_train, w) for w in result_GD_BT[3]]\n",
        "plt.plot(result_GD_BT[1],loss_function_list_GDBT )\n",
        "plt.title(\"GD_BACKTRACKING\")\n",
        "plt.xlabel(\"iterations\")\n",
        "plt.ylabel(\"loss_function\")"
      ],
      "execution_count": 505,
      "outputs": [
        {
          "output_type": "execute_result",
          "data": {
            "text/plain": [
              "Text(0, 0.5, 'loss_function')"
            ]
          },
          "metadata": {},
          "execution_count": 505
        },
        {
          "output_type": "display_data",
          "data": {
            "image/png": "[encoded data removed]",
            "text/plain": [
              "<Figure size 504x360 with 1 Axes>"
            ]
          },
          "metadata": {
            "needs_background": "light"
          }
        }
      ]
    },
    {
      "cell_type": "code",
      "metadata": {
        "id": "Evc72SIxoQPO",
        "colab": {
          "base_uri": "https://localhost:8080/",
          "height": 367
        },
        "outputId": "035a3e70-a436-4dbc-d248-b8099ff912ae"
      },
      "source": [
        "#cost function of newton\n",
        "fig = plt.gcf()\n",
        "fig.set_size_inches(7,5)\n",
        "loss_function_list_newton = [loss_funtion(scaled_x_train, y_train, w) for w in result_newton[3]]\n",
        "plt.plot(result_newton[1],loss_function_list_newton )\n",
        "plt.title(\"NEWTON\")\n",
        "plt.xlabel(\"iterations\")\n",
        "plt.ylabel(\"loss_function\")"
      ],
      "execution_count": 506,
      "outputs": [
        {
          "output_type": "execute_result",
          "data": {
            "text/plain": [
              "Text(0, 0.5, 'loss_function')"
            ]
          },
          "metadata": {},
          "execution_count": 506
        },
        {
          "output_type": "display_data",
          "data": {
            "image/png": "[encoded data removed]",
            "text/plain": [
              "<Figure size 504x360 with 1 Axes>"
            ]
          },
          "metadata": {
            "needs_background": "light"
          }
        }
      ]
    },
    {
      "cell_type": "code",
      "metadata": {
        "id": "XQbIegrmtF2Q",
        "colab": {
          "base_uri": "https://localhost:8080/",
          "height": 367
        },
        "outputId": "f4ecde90-428b-43e8-853f-7c9a23da5f82"
      },
      "source": [
        "#cost function of Acc_G\n",
        "fig = plt.gcf()\n",
        "fig.set_size_inches(7,5)\n",
        "loss_function_list_acc_gradient = [loss_funtion(scaled_x_train, y_train, w) for w in result_acc_gradient[3]]\n",
        "plt.plot(result_acc_gradient[1],loss_function_list_acc_gradient )\n",
        "plt.title(\"Acc_gradient\")\n",
        "plt.xlabel(\"iterations\")\n",
        "plt.ylabel(\"loss_function\")"
      ],
      "execution_count": 507,
      "outputs": [
        {
          "output_type": "execute_result",
          "data": {
            "text/plain": [
              "Text(0, 0.5, 'loss_function')"
            ]
          },
          "metadata": {},
          "execution_count": 507
        },
        {
          "output_type": "display_data",
          "data": {
            "image/png": "[encoded data removed]",
            "text/plain": [
              "<Figure size 504x360 with 1 Axes>"
            ]
          },
          "metadata": {
            "needs_background": "light"
          }
        }
      ]
    },
    {
      "cell_type": "code",
      "metadata": {
        "colab": {
          "base_uri": "https://localhost:8080/",
          "height": 367
        },
        "id": "IBwYE84T-39j",
        "outputId": "b90c9135-c67a-4f0c-ceaf-f4e7750c0abc"
      },
      "source": [
        "#cost function of Acc_Gradient_BT:\n",
        "fig = plt.gcf()\n",
        "fig.set_size_inches(7,5)\n",
        "loss_function_list_acc_gradient_bt = [loss_funtion(scaled_x_train, y_train, w) for w in result_accgradient_BT[3]]\n",
        "plt.plot(result_accgradient_BT[1],loss_function_list_acc_gradient_bt )\n",
        "plt.title(\"Acc_gradient_BT\")\n",
        "plt.xlabel(\"iterations\")\n",
        "plt.ylabel(\"loss_function\")\n"
      ],
      "execution_count": 508,
      "outputs": [
        {
          "output_type": "execute_result",
          "data": {
            "text/plain": [
              "Text(0, 0.5, 'loss_function')"
            ]
          },
          "metadata": {},
          "execution_count": 508
        },
        {
          "output_type": "display_data",
          "data": {
            "image/png": "[encoded data removed]",
            "text/plain": [
              "<Figure size 504x360 with 1 Axes>"
            ]
          },
          "metadata": {
            "needs_background": "light"
          }
        }
      ]
    },
    {
      "cell_type": "code",
      "metadata": {
        "id": "-Wg6OjHaoZGK",
        "colab": {
          "base_uri": "https://localhost:8080/"
        },
        "outputId": "4f99ff73-17ce-4120-d38d-1f16af423891"
      },
      "source": [
        "#Cost_function compare\n",
        "print(\"GD:\", loss_function_list_GD[-1])\n",
        "print(\"GD_BACKTRACKING:\", loss_function_list_GDBT[-1])\n",
        "print(\"NEWTON:\", loss_function_list_newton[-1])\n",
        "print(\"acc_gradient:\", loss_function_list_acc_gradient[-1])\n",
        "print(\"acc_gradient_bt:\", loss_function_list_acc_gradient_bt[-1])\n"
      ],
      "execution_count": 509,
      "outputs": [
        {
          "output_type": "stream",
          "text": [
            "GD: 0.059546999934271636\n",
            "GD_BACKTRACKING: 0.059546995805174335\n",
            "NEWTON: 0.059546927806352415\n",
            "acc_gradient: 0.05954695069782798\n",
            "acc_gradient_bt: 0.05954697511569573\n"
          ],
          "name": "stdout"
        }
      ]
    },
    {
      "cell_type": "code",
      "metadata": {
        "id": "KeEe53AHpZkY",
        "colab": {
          "base_uri": "https://localhost:8080/"
        },
        "outputId": "8a4d3728-3d68-4cef-b985-6ff8a7025f69"
      },
      "source": [
        "#Cost_function (MSE) of test_samples:\n",
        "print(\"GD:\", mean_squared_error(y_test, y_predict_func(scaled_x_test, result_GD[0]))/2)\n",
        "print(\"GD_BACKTRACKING:\", mean_squared_error(y_test, y_predict_func(scaled_x_test, result_GD_BT[0]))/2)\n",
        "print(\"NEWTON:\", mean_squared_error(y_test, y_predict_func(scaled_x_test, result_newton[0]))/2)\n",
        "print(\"acc_gradient:\", mean_squared_error(y_test, y_predict_func(scaled_x_test, result_acc_gradient[0]))/2)\n",
        "print(\"acc_gradient_bt:\", mean_squared_error(y_test, y_predict_func(scaled_x_test, result_accgradient_BT[0]))/2)\n"
      ],
      "execution_count": 510,
      "outputs": [
        {
          "output_type": "stream",
          "text": [
            "GD: 0.05975088645019576\n",
            "GD_BACKTRACKING: 0.05975087443205675\n",
            "NEWTON: 0.059750738599341484\n",
            "acc_gradient: 0.05975021599545672\n",
            "acc_gradient_bt: 0.05975078305104824\n"
          ],
          "name": "stdout"
        }
      ]
    }
  ]
}